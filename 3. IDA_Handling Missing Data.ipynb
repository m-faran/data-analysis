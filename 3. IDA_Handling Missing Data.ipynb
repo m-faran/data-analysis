{
 "cells": [
  {
   "metadata": {},
   "cell_type": "markdown",
   "source": [
    "Handling missing data\n",
    "---\n",
    "- Missing data is a common issue in real-world datasets. Improper handling can bias results, reduce model performance, or lead to invalid conclusions. To deal with missing values, different strategies are applied depending on:\n",
    "    - Type of variable: Numerical vs. Categorical\n",
    "    - Nature of analysis: Univariate vs. Multivariate\n",
    "    - Extent of missing values: Small, moderate, or large proportion\n",
    "\n",
    "---\n",
    "## Threshold based Removal Technique\n",
    "  - Row Deletion (List-wise Deletion or Complete Case Analysis CCA)\n",
    "    - If the percentage of missing data in a column/row is less than 5%, it is often safe to drop the rows but the missing data should be a random missing and not in a bulk/chunk at the same location.\n",
    "    - Example: If 50 rows out of 1000 have missing values, removing them has little effect.\n",
    "  - Column Removal\n",
    "    - If a column has more than 70% missing values, it usually provides little information and drop the column may not affect the data.\n",
    "    - Example: A survey question that very few participants answered.\n",
    "    - Intermediate Case (40–70%)\n",
    "    - For columns with 40–70% missing values, keep if the feature is important, and apply imputation.\n",
    "    - Drop if the feature is not critical.\n",
    "    - For Example, a clinical test result missing for half of the patients may still be crucial so then impute it.\n",
    "---\n",
    "## Univariate Imputation Techniques\n",
    "- Univariate methods only look at the distribution of the column itself without considering relationships with other variables.\n",
    "- ### For Numerical Columns:\n",
    "    #### Mean Imputation\n",
    "    - Replace missing values with the mean. When the data is distributed normally, then apply the mean to fill the missing values. Due to this process, the variance will be shrink at some extent. If the variance shrinking is at much high rate, then do not apply the mean as it will not be a good approach.\n",
    "    - The disadvantage of the applying mean will be that it will change the distribution of the data.\n",
    "\n",
    "   #### Median Imputation\n",
    "    - Replace missing values with the median. Apply the median, when the data is a bit right skewed distributed. The process can be find out through the histogram or just by calculating the skewed value. If the value is at 0, then it is at mean, greater than 0 values determined right skewed and less than 0 will determined the data distribution is left skewed.\n",
    "    - The disadvantage of apply the median is that it will change the distribution of the data and can create outliers as well.\n",
    "\n",
    "- ### For Categorical Columns:\n",
    "    #### Mode (Most Frequent) Imputation\n",
    "    • Replace missing values with the most frequent category/mode.\n",
    "    #### “Missing” Category Imputation\n",
    "    • Replace missing values with a new category \"Missing\".\n"
   ],
   "id": "70d41cfb7669b416"
  },
  {
   "metadata": {
    "ExecuteTime": {
     "end_time": "2025-10-05T16:04:54.525564Z",
     "start_time": "2025-10-05T16:04:54.521198Z"
    }
   },
   "cell_type": "code",
   "source": [
    "import pandas as pd\n",
    "import numpy as np\n",
    "import seaborn as sns\n",
    "import matplotlib.pyplot as plt"
   ],
   "id": "33c6cfc4bf48188e",
   "outputs": [],
   "execution_count": 13
  },
  {
   "metadata": {
    "ExecuteTime": {
     "end_time": "2025-10-05T16:04:55.660969Z",
     "start_time": "2025-10-05T16:04:55.641118Z"
    }
   },
   "cell_type": "code",
   "source": [
    "df = sns.load_dataset(\"titanic\")\n",
    "print(\"First Five Rows\")\n",
    "print(df.head())"
   ],
   "id": "8b5c95439edefa5d",
   "outputs": [
    {
     "name": "stdout",
     "output_type": "stream",
     "text": [
      "First Five Rows\n",
      "   survived  pclass     sex   age  sibsp  parch     fare embarked  class  \\\n",
      "0         0       3    male  22.0      1      0   7.2500        S  Third   \n",
      "1         1       1  female  38.0      1      0  71.2833        C  First   \n",
      "2         1       3  female  26.0      0      0   7.9250        S  Third   \n",
      "3         1       1  female  35.0      1      0  53.1000        S  First   \n",
      "4         0       3    male  35.0      0      0   8.0500        S  Third   \n",
      "\n",
      "     who  adult_male deck  embark_town alive  alone  \n",
      "0    man        True  NaN  Southampton    no  False  \n",
      "1  woman       False    C    Cherbourg   yes  False  \n",
      "2  woman       False  NaN  Southampton   yes   True  \n",
      "3  woman       False    C  Southampton   yes  False  \n",
      "4    man        True  NaN  Southampton    no   True  \n"
     ]
    }
   ],
   "execution_count": 14
  },
  {
   "metadata": {
    "ExecuteTime": {
     "end_time": "2025-10-05T16:05:00.047050Z",
     "start_time": "2025-10-05T16:05:00.039250Z"
    }
   },
   "cell_type": "code",
   "source": "df.shape",
   "id": "63d65385ac934a58",
   "outputs": [
    {
     "data": {
      "text/plain": [
       "(891, 15)"
      ]
     },
     "execution_count": 15,
     "metadata": {},
     "output_type": "execute_result"
    }
   ],
   "execution_count": 15
  },
  {
   "metadata": {
    "ExecuteTime": {
     "end_time": "2025-10-05T16:05:01.041305Z",
     "start_time": "2025-10-05T16:05:01.030847Z"
    }
   },
   "cell_type": "code",
   "source": "df.isnull().sum()",
   "id": "4cc36185b5d2c870",
   "outputs": [
    {
     "data": {
      "text/plain": [
       "survived         0\n",
       "pclass           0\n",
       "sex              0\n",
       "age            177\n",
       "sibsp            0\n",
       "parch            0\n",
       "fare             0\n",
       "embarked         2\n",
       "class            0\n",
       "who              0\n",
       "adult_male       0\n",
       "deck           688\n",
       "embark_town      2\n",
       "alive            0\n",
       "alone            0\n",
       "dtype: int64"
      ]
     },
     "execution_count": 16,
     "metadata": {},
     "output_type": "execute_result"
    }
   ],
   "execution_count": 16
  },
  {
   "metadata": {
    "ExecuteTime": {
     "end_time": "2025-10-05T16:05:06.197646Z",
     "start_time": "2025-10-05T16:05:06.189185Z"
    }
   },
   "cell_type": "code",
   "source": "df.isnull().sum() / len(df)",
   "id": "eb69709ce1585aa",
   "outputs": [
    {
     "data": {
      "text/plain": [
       "survived       0.000000\n",
       "pclass         0.000000\n",
       "sex            0.000000\n",
       "age            0.198653\n",
       "sibsp          0.000000\n",
       "parch          0.000000\n",
       "fare           0.000000\n",
       "embarked       0.002245\n",
       "class          0.000000\n",
       "who            0.000000\n",
       "adult_male     0.000000\n",
       "deck           0.772166\n",
       "embark_town    0.002245\n",
       "alive          0.000000\n",
       "alone          0.000000\n",
       "dtype: float64"
      ]
     },
     "execution_count": 17,
     "metadata": {},
     "output_type": "execute_result"
    }
   ],
   "execution_count": 17
  },
  {
   "metadata": {
    "ExecuteTime": {
     "end_time": "2025-10-05T16:05:07.565080Z",
     "start_time": "2025-10-05T16:05:07.554251Z"
    }
   },
   "cell_type": "code",
   "source": "df.isnull().sum() / len(df) * 100",
   "id": "ff9a9b3a228aaf23",
   "outputs": [
    {
     "data": {
      "text/plain": [
       "survived        0.000000\n",
       "pclass          0.000000\n",
       "sex             0.000000\n",
       "age            19.865320\n",
       "sibsp           0.000000\n",
       "parch           0.000000\n",
       "fare            0.000000\n",
       "embarked        0.224467\n",
       "class           0.000000\n",
       "who             0.000000\n",
       "adult_male      0.000000\n",
       "deck           77.216611\n",
       "embark_town     0.224467\n",
       "alive           0.000000\n",
       "alone           0.000000\n",
       "dtype: float64"
      ]
     },
     "execution_count": 18,
     "metadata": {},
     "output_type": "execute_result"
    }
   ],
   "execution_count": 18
  },
  {
   "metadata": {
    "ExecuteTime": {
     "end_time": "2025-10-05T16:08:22.526103Z",
     "start_time": "2025-10-05T16:08:22.517670Z"
    }
   },
   "cell_type": "code",
   "source": [
    "# Confirmation check for the 20 cent data missing columns only\n",
    "missing_percentage = df.isnull().sum() / len(df) * 100\n",
    "columns = missing_percentage[(missing_percentage > 0) & (missing_percentage <= 20)].index.tolist()\n",
    "print(columns)"
   ],
   "id": "b6905cec5f93d7bc",
   "outputs": [
    {
     "name": "stdout",
     "output_type": "stream",
     "text": [
      "['age', 'embarked', 'embark_town']\n"
     ]
    }
   ],
   "execution_count": 21
  },
  {
   "metadata": {
    "ExecuteTime": {
     "end_time": "2025-10-05T16:09:34.060281Z",
     "start_time": "2025-10-05T16:09:34.036810Z"
    }
   },
   "cell_type": "code",
   "source": [
    "# What percent will be left if we drop the 20 cent of Age data\n",
    "len(df[columns].dropna()) / len(df)"
   ],
   "id": "63d3b631a5bd43c9",
   "outputs": [
    {
     "data": {
      "text/plain": [
       "0.7991021324354658"
      ]
     },
     "execution_count": 22,
     "metadata": {},
     "output_type": "execute_result"
    }
   ],
   "execution_count": 22
  },
  {
   "metadata": {
    "ExecuteTime": {
     "end_time": "2025-10-05T16:10:08.734067Z",
     "start_time": "2025-10-05T16:10:08.728227Z"
    }
   },
   "cell_type": "code",
   "source": "new_df_age = df.dropna(subset=['age'])",
   "id": "5b534f76404173b8",
   "outputs": [],
   "execution_count": 24
  },
  {
   "metadata": {
    "ExecuteTime": {
     "end_time": "2025-10-05T16:10:25.549929Z",
     "start_time": "2025-10-05T16:10:25.544092Z"
    }
   },
   "cell_type": "code",
   "source": "df.shape, new_df_age.shape",
   "id": "ed3cd9285d527e85",
   "outputs": [
    {
     "data": {
      "text/plain": [
       "((891, 15), (714, 15))"
      ]
     },
     "execution_count": 25,
     "metadata": {},
     "output_type": "execute_result"
    }
   ],
   "execution_count": 25
  },
  {
   "metadata": {
    "ExecuteTime": {
     "end_time": "2025-10-05T16:13:30.910605Z",
     "start_time": "2025-10-05T16:13:30.705918Z"
    }
   },
   "cell_type": "code",
   "source": [
    "# Comparing Original and new data via histogram\n",
    "df['age'].hist(bins=30, density=True, color='red', label='Before', alpha=0.5, histtype='step', linewidth=2)\n",
    "\n",
    "new_df_age['age'].hist(bins=30, color='green', density=True, label='After')\n",
    "\n",
    "plt.title(\"Before and After rows removal\")"
   ],
   "id": "d47dc7bc5420313a",
   "outputs": [
    {
     "data": {
      "text/plain": [
       "Text(0.5, 1.0, 'Before and After rows removal')"
      ]
     },
     "execution_count": 28,
     "metadata": {},
     "output_type": "execute_result"
    },
    {
     "data": {
      "text/plain": [
       "<Figure size 640x480 with 1 Axes>"
      ],
      "image/png": "[encoded data removed]"
     },
     "metadata": {},
     "output_type": "display_data",
     "jetTransient": {
      "display_id": null
     }
    }
   ],
   "execution_count": 28
  },
  {
   "metadata": {},
   "cell_type": "markdown",
   "source": [
    "# TASK 1\n",
    "\n",
    "- Implement the task performed above but the dataset should be of your own choice and not the one mentioned above."
   ],
   "id": "b07949aac935c4b1"
  },
  {
   "metadata": {
    "ExecuteTime": {
     "end_time": "2025-09-26T06:00:29.573956Z",
     "start_time": "2025-09-26T06:00:29.530792Z"
    }
   },
   "cell_type": "code",
   "source": [
    "dataset_path = \"/home/faran/Downloads/retail/synthetic_dataset.csv\"\n",
    "df = pd.read_csv(dataset_path)\n",
    "df.sample(5)"
   ],
   "id": "658a6091d790f00c",
   "outputs": [
    {
     "data": {
      "text/plain": [
       "     Category   Price    Rating         Stock  Discount\n",
       "1095        C  9566.0       NaN  Out of Stock       1.0\n",
       "2042        B  9919.0  2.916351           NaN       4.0\n",
       "2493      NaN  1907.0       NaN           NaN      16.0\n",
       "557       NaN  7405.0       NaN      In Stock      31.0\n",
       "3669      NaN  6445.0       NaN      In Stock      17.0"
      ],
      "text/html": [
       "<div>\n",
       "<style scoped>\n",
       "    .dataframe tbody tr th:only-of-type {\n",
       "        vertical-align: middle;\n",
       "    }\n",
       "\n",
       "    .dataframe tbody tr th {\n",
       "        vertical-align: top;\n",
       "    }\n",
       "\n",
       "    .dataframe thead th {\n",
       "        text-align: right;\n",
       "    }\n",
       "</style>\n",
       "<table border=\"1\" class=\"dataframe\">\n",
       "  <thead>\n",
       "    <tr style=\"text-align: right;\">\n",
       "      <th></th>\n",
       "      <th>Category</th>\n",
       "      <th>Price</th>\n",
       "      <th>Rating</th>\n",
       "      <th>Stock</th>\n",
       "      <th>Discount</th>\n",
       "    </tr>\n",
       "  </thead>\n",
       "  <tbody>\n",
       "    <tr>\n",
       "      <th>1095</th>\n",
       "      <td>C</td>\n",
       "      <td>9566.0</td>\n",
       "      <td>NaN</td>\n",
       "      <td>Out of Stock</td>\n",
       "      <td>1.0</td>\n",
       "    </tr>\n",
       "    <tr>\n",
       "      <th>2042</th>\n",
       "      <td>B</td>\n",
       "      <td>9919.0</td>\n",
       "      <td>2.916351</td>\n",
       "      <td>NaN</td>\n",
       "      <td>4.0</td>\n",
       "    </tr>\n",
       "    <tr>\n",
       "      <th>2493</th>\n",
       "      <td>NaN</td>\n",
       "      <td>1907.0</td>\n",
       "      <td>NaN</td>\n",
       "      <td>NaN</td>\n",
       "      <td>16.0</td>\n",
       "    </tr>\n",
       "    <tr>\n",
       "      <th>557</th>\n",
       "      <td>NaN</td>\n",
       "      <td>7405.0</td>\n",
       "      <td>NaN</td>\n",
       "      <td>In Stock</td>\n",
       "      <td>31.0</td>\n",
       "    </tr>\n",
       "    <tr>\n",
       "      <th>3669</th>\n",
       "      <td>NaN</td>\n",
       "      <td>6445.0</td>\n",
       "      <td>NaN</td>\n",
       "      <td>In Stock</td>\n",
       "      <td>17.0</td>\n",
       "    </tr>\n",
       "  </tbody>\n",
       "</table>\n",
       "</div>"
      ]
     },
     "execution_count": 82,
     "metadata": {},
     "output_type": "execute_result"
    }
   ],
   "execution_count": 82
  },
  {
   "metadata": {
    "ExecuteTime": {
     "end_time": "2025-09-26T06:00:31.109905Z",
     "start_time": "2025-09-26T06:00:31.101553Z"
    }
   },
   "cell_type": "code",
   "source": "df.shape",
   "id": "6b87a3490d15c337",
   "outputs": [
    {
     "data": {
      "text/plain": [
       "(4362, 5)"
      ]
     },
     "execution_count": 83,
     "metadata": {},
     "output_type": "execute_result"
    }
   ],
   "execution_count": 83
  },
  {
   "metadata": {
    "ExecuteTime": {
     "end_time": "2025-09-26T06:00:35.603489Z",
     "start_time": "2025-09-26T06:00:35.588885Z"
    }
   },
   "cell_type": "code",
   "source": "df.isnull().sum()",
   "id": "ca72128e631c451",
   "outputs": [
    {
     "data": {
      "text/plain": [
       "Category    2748\n",
       "Price        174\n",
       "Rating      2050\n",
       "Stock       1352\n",
       "Discount     392\n",
       "dtype: int64"
      ]
     },
     "execution_count": 84,
     "metadata": {},
     "output_type": "execute_result"
    }
   ],
   "execution_count": 84
  },
  {
   "metadata": {
    "ExecuteTime": {
     "end_time": "2025-09-26T06:00:36.724520Z",
     "start_time": "2025-09-26T06:00:36.712856Z"
    }
   },
   "cell_type": "code",
   "source": "df.isnull().sum() / len(df) * 100",
   "id": "31cd804520020d5e",
   "outputs": [
    {
     "data": {
      "text/plain": [
       "Category    62.998624\n",
       "Price        3.988996\n",
       "Rating      46.996790\n",
       "Stock       30.994956\n",
       "Discount     8.986703\n",
       "dtype: float64"
      ]
     },
     "execution_count": 85,
     "metadata": {},
     "output_type": "execute_result"
    }
   ],
   "execution_count": 85
  },
  {
   "metadata": {
    "ExecuteTime": {
     "end_time": "2025-09-26T06:00:37.688336Z",
     "start_time": "2025-09-26T06:00:37.677917Z"
    }
   },
   "cell_type": "code",
   "source": [
    "missing_percentage = df.isnull().sum() / len(df) * 100\n",
    "columns = missing_percentage[(missing_percentage > 0) & (missing_percentage <= 5)].index.tolist()\n",
    "print(columns)"
   ],
   "id": "e6b127e6a138de69",
   "outputs": [
    {
     "name": "stdout",
     "output_type": "stream",
     "text": [
      "['Price']\n"
     ]
    }
   ],
   "execution_count": 86
  },
  {
   "metadata": {
    "ExecuteTime": {
     "end_time": "2025-09-26T06:00:41.338527Z",
     "start_time": "2025-09-26T06:00:41.327146Z"
    }
   },
   "cell_type": "code",
   "source": "len(df[columns].dropna()) / len(df)",
   "id": "1d9ba391f2734b4c",
   "outputs": [
    {
     "data": {
      "text/plain": [
       "0.9601100412654745"
      ]
     },
     "execution_count": 87,
     "metadata": {},
     "output_type": "execute_result"
    }
   ],
   "execution_count": 87
  },
  {
   "metadata": {
    "ExecuteTime": {
     "end_time": "2025-09-26T06:00:42.348017Z",
     "start_time": "2025-09-26T06:00:42.337952Z"
    }
   },
   "cell_type": "code",
   "source": "new_df_price = df.dropna(subset=['Price'])",
   "id": "16b716ed9f31dbab",
   "outputs": [],
   "execution_count": 88
  },
  {
   "metadata": {
    "ExecuteTime": {
     "end_time": "2025-09-26T06:00:43.485782Z",
     "start_time": "2025-09-26T06:00:43.476867Z"
    }
   },
   "cell_type": "code",
   "source": "df.shape,new_df_price.shape",
   "id": "c570cf79ca9f9a05",
   "outputs": [
    {
     "data": {
      "text/plain": [
       "((4362, 5), (4188, 5))"
      ]
     },
     "execution_count": 89,
     "metadata": {},
     "output_type": "execute_result"
    }
   ],
   "execution_count": 89
  },
  {
   "metadata": {
    "ExecuteTime": {
     "end_time": "2025-09-26T06:00:44.971176Z",
     "start_time": "2025-09-26T06:00:44.730471Z"
    }
   },
   "cell_type": "code",
   "source": [
    "df['Price'].hist(bins=50, color='red', label='Before', alpha=0.5, histtype='step', linewidth=2)\n",
    "\n",
    "new_df_price['Price'].hist(bins=50, color='green', label='After', alpha=0.8)\n",
    "\n",
    "plt.title(\"Before & After rows removal comparison\")"
   ],
   "id": "dcee74afe37594e3",
   "outputs": [
    {
     "data": {
      "text/plain": [
       "Text(0.5, 1.0, 'Before & After rows removal comparison')"
      ]
     },
     "execution_count": 90,
     "metadata": {},
     "output_type": "execute_result"
    },
    {
     "data": {
      "text/plain": [
       "<Figure size 640x480 with 1 Axes>"
      ],
      "image/png": "[encoded data removed]"
     },
     "metadata": {},
     "output_type": "display_data",
     "jetTransient": {
      "display_id": null
     }
    }
   ],
   "execution_count": 90
  },
  {
   "metadata": {},
   "cell_type": "markdown",
   "source": [
    "# TASK 2\n",
    "- Identify any column of your dataset having missing numerical values more than 20 percent and compare the before and after removal of the rows."
   ],
   "id": "1f4df3fb58b647a2"
  },
  {
   "metadata": {
    "ExecuteTime": {
     "end_time": "2025-09-26T06:00:22.040100Z",
     "start_time": "2025-09-26T06:00:22.027187Z"
    }
   },
   "cell_type": "code",
   "source": [
    "missing_percentage = df.isnull().sum() / len(df) * 100\n",
    "columns = missing_percentage[(missing_percentage > 20)].index.tolist()\n",
    "print(columns)"
   ],
   "id": "da3261bb8af64ebb",
   "outputs": [
    {
     "name": "stdout",
     "output_type": "stream",
     "text": [
      "['Category', 'Rating', 'Stock']\n"
     ]
    }
   ],
   "execution_count": 77
  },
  {
   "metadata": {
    "ExecuteTime": {
     "end_time": "2025-09-26T06:00:22.115687Z",
     "start_time": "2025-09-26T06:00:22.099461Z"
    }
   },
   "cell_type": "code",
   "source": "len(df[columns].dropna()) / len(df) * 100",
   "id": "60a7176132c0a00",
   "outputs": [
    {
     "data": {
      "text/plain": [
       "14.259513984410821"
      ]
     },
     "execution_count": 78,
     "metadata": {},
     "output_type": "execute_result"
    }
   ],
   "execution_count": 78
  },
  {
   "metadata": {
    "ExecuteTime": {
     "end_time": "2025-09-26T06:01:37.243993Z",
     "start_time": "2025-09-26T06:01:37.236550Z"
    }
   },
   "cell_type": "code",
   "source": "new_df_stock = df.dropna(subset=['Rating'])",
   "id": "c0d5d14bb93f65bd",
   "outputs": [],
   "execution_count": 91
  },
  {
   "metadata": {
    "ExecuteTime": {
     "end_time": "2025-09-26T06:01:38.463200Z",
     "start_time": "2025-09-26T06:01:38.455106Z"
    }
   },
   "cell_type": "code",
   "source": "df.shape,new_df_stock.shape",
   "id": "808b8b929f57d8f0",
   "outputs": [
    {
     "data": {
      "text/plain": [
       "((4362, 5), (2312, 5))"
      ]
     },
     "execution_count": 92,
     "metadata": {},
     "output_type": "execute_result"
    }
   ],
   "execution_count": 92
  },
  {
   "metadata": {
    "ExecuteTime": {
     "end_time": "2025-09-26T05:58:52.835059Z",
     "start_time": "2025-09-26T05:58:52.560438Z"
    }
   },
   "cell_type": "code",
   "source": [
    "df['Rating'].hist(bins=50, color='red', label='Before', alpha=0.5, histtype='step', linewidth=2)\n",
    "\n",
    "new_df_stock['Rating'].hist(bins=50, color='green', label='After', alpha=0.8)\n",
    "\n",
    "plt.title(\"Before & After rows removal comparison\")"
   ],
   "id": "bbd013526f341888",
   "outputs": [
    {
     "data": {
      "text/plain": [
       "Text(0.5, 1.0, 'Before & After rows removal comparison')"
      ]
     },
     "execution_count": 66,
     "metadata": {},
     "output_type": "execute_result"
    },
    {
     "data": {
      "text/plain": [
       "<Figure size 640x480 with 1 Axes>"
      ],
      "image/png": "[encoded data removed]"
     },
     "metadata": {},
     "output_type": "display_data",
     "jetTransient": {
      "display_id": null
     }
    }
   ],
   "execution_count": 66
  },
  {
   "metadata": {},
   "cell_type": "markdown",
   "source": [
    "# TASK 3\n",
    "- While dealing with the categorical data for the removal technique of the missing rows, the ratio of before and after removing rows should be slightly changed. Apply the removal of the missing data on any categorical data of the downloaded dataset and present the result in terms of ratio."
   ],
   "id": "a19301463f9dbd69"
  },
  {
   "metadata": {
    "ExecuteTime": {
     "end_time": "2025-09-26T04:24:47.159716Z",
     "start_time": "2025-09-26T04:24:47.136963Z"
    }
   },
   "cell_type": "code",
   "source": [
    "print(\"Total rows before:\", len(df))\n",
    "\n",
    "before_counts = df['Category'].value_counts(dropna=False)\n",
    "before_ratio = before_counts / len(df) * 100\n",
    "\n",
    "print(\"\\nCategory ratio before (including NaN, in %):\")\n",
    "print(before_ratio)\n",
    "\n",
    "df_after = df.dropna(subset=['Category'])\n",
    "print(\"\\nTotal rows after:\", len(df_after))\n",
    "\n",
    "after_counts = df_after['Category'].value_counts()\n",
    "after_ratio = after_counts / len(df_after) * 100\n",
    "\n",
    "print(\"\\nCategory ratio after (in %):\")\n",
    "print(after_ratio)\n",
    "\n",
    "comparison = pd.concat([before_ratio.dropna(), after_ratio], axis=1, keys=['Before %', 'After %'])\n",
    "comparison['Change %'] = comparison['After %'] - comparison['Before %']\n",
    "\n",
    "print(\"\\nComparison of ratios:\")\n",
    "print(comparison)\n"
   ],
   "id": "ef034420b53f394e",
   "outputs": [
    {
     "name": "stdout",
     "output_type": "stream",
     "text": [
      "Total rows before: 4362\n",
      "\n",
      "Category ratio before (including NaN, in %):\n",
      "Category\n",
      "NaN    62.998624\n",
      "C       9.743237\n",
      "D       9.353508\n",
      "A       9.238881\n",
      "B       8.665750\n",
      "Name: count, dtype: float64\n",
      "\n",
      "Total rows after: 1614\n",
      "\n",
      "Category ratio after (in %):\n",
      "Category\n",
      "C    26.332094\n",
      "D    25.278810\n",
      "A    24.969021\n",
      "B    23.420074\n",
      "Name: count, dtype: float64\n",
      "\n",
      "Comparison of ratios:\n",
      "           Before %    After %   Change %\n",
      "Category                                 \n",
      "NaN       62.998624        NaN        NaN\n",
      "C          9.743237  26.332094  16.588857\n",
      "D          9.353508  25.278810  15.925303\n",
      "A          9.238881  24.969021  15.730140\n",
      "B          8.665750  23.420074  14.754325\n"
     ]
    }
   ],
   "execution_count": 46
  },
  {
   "metadata": {},
   "cell_type": "markdown",
   "source": [
    "# TASK 4\n",
    "- One of the technique for imputing/filling the numerical univariate is to impute them with the Mean of the column. When the data is normal distributed, the imputation with the mean is the best approach, however, the variance will be shrink with the mean imputation. Apply this approach on numerical column and compare the variance before and after applying mean."
   ],
   "id": "f707f2c585f476ae"
  },
  {
   "metadata": {
    "ExecuteTime": {
     "end_time": "2025-09-26T05:24:11.024041Z",
     "start_time": "2025-09-26T05:24:11.008664Z"
    }
   },
   "cell_type": "code",
   "source": [
    "print(\"Missing values in Discount:\", df['Discount'].isnull().sum())\n",
    "\n",
    "before_var = df['Discount'].var()\n",
    "print(\"Variance before imputation:\", before_var)\n",
    "\n",
    "mean_val = df['Discount'].mean()\n",
    "df_mean_imputed = df.copy()\n",
    "df_mean_imputed['Discount'] = df_mean_imputed['Discount'].fillna(mean_val)\n",
    "\n",
    "after_var = df_mean_imputed['Discount'].var()\n",
    "print(\"Variance after mean imputation:\", after_var)\n",
    "\n",
    "print(\"\\nComparison:\")\n",
    "print(f\"Before variance: {before_var:.4f}\")\n",
    "print(f\"After variance : {after_var:.4f}\")\n",
    "print(f\"Shrinkage      : {before_var - after_var:.4f}\")\n"
   ],
   "id": "7f74f67cd5f5c0fb",
   "outputs": [
    {
     "name": "stdout",
     "output_type": "stream",
     "text": [
      "Missing values in Discount: 392\n",
      "Variance before imputation: 205.84111936779564\n",
      "Variance after mean imputation: 187.33854684035336\n",
      "\n",
      "Comparison:\n",
      "Before variance: 205.8411\n",
      "After variance : 187.3385\n",
      "Shrinkage      : 18.5026\n"
     ]
    }
   ],
   "execution_count": 47
  },
  {
   "metadata": {},
   "cell_type": "markdown",
   "source": [
    "# TASK 5\n",
    "- To impute the categorical data in a univariate analysis, the two approaches are to impute the missing value with the most frequent (mode) or any other word such as “Missing”. During the model training, the model will observe the “Missing” word and will not affect the training. Implement the code where both the approaches being achieved and display the comparison as well."
   ],
   "id": "1cd96169b551af56"
  },
  {
   "metadata": {
    "ExecuteTime": {
     "end_time": "2025-09-26T05:29:13.527399Z",
     "start_time": "2025-09-26T05:29:13.460607Z"
    }
   },
   "cell_type": "code",
   "source": [
    "print(\"Missing values in Stock (before):\", df['Stock'].isnull().sum())\n",
    "\n",
    "mode_val = df['Stock'].mode()[0]\n",
    "df_mode_imputed = df.copy()\n",
    "df_mode_imputed['Stock'] = df_mode_imputed['Stock'].fillna(mode_val)\n",
    "\n",
    "df_missing_imputed = df.copy()\n",
    "df_missing_imputed['Stock'] = df_missing_imputed['Stock'].fillna(\"Missing\")\n",
    "\n",
    "print(\"\\nDistribution after Mode Imputation:\")\n",
    "print(df_mode_imputed['Stock'].value_counts(normalize=True) * 100)\n",
    "\n",
    "print(\"\\nDistribution after 'Missing' Imputation:\")\n",
    "print(df_missing_imputed['Stock'].value_counts(normalize=True) * 100)\n",
    "\n",
    "comparison = pd.DataFrame({\n",
    "    \"Original (with NaN)\": df['Stock'].value_counts(dropna=False),\n",
    "    \"Mode Imputation\": df_mode_imputed['Stock'].value_counts(),\n",
    "    \"'Missing' Imputation\": df_missing_imputed['Stock'].value_counts()\n",
    "})\n",
    "\n",
    "print(\"\\nComparison Table:\")\n",
    "print(comparison)"
   ],
   "id": "a7a9c6e707f721f",
   "outputs": [
    {
     "name": "stdout",
     "output_type": "stream",
     "text": [
      "Missing values in Stock (before): 1352\n",
      "\n",
      "Distribution after Mode Imputation:\n",
      "Stock\n",
      "In Stock        65.68088\n",
      "Out of Stock    34.31912\n",
      "Name: proportion, dtype: float64\n",
      "\n",
      "Distribution after 'Missing' Imputation:\n",
      "Stock\n",
      "In Stock        34.685924\n",
      "Out of Stock    34.319120\n",
      "Missing         30.994956\n",
      "Name: proportion, dtype: float64\n",
      "\n",
      "Comparison Table:\n",
      "              Original (with NaN)  Mode Imputation  'Missing' Imputation\n",
      "Stock                                                                   \n",
      "In Stock                   1513.0           2865.0                1513.0\n",
      "Missing                       NaN              NaN                1352.0\n",
      "Out of Stock               1497.0           1497.0                1497.0\n",
      "NaN                        1352.0              NaN                   NaN\n"
     ]
    }
   ],
   "execution_count": 48
  }
 ],
 "metadata": {
  "kernelspec": {
   "display_name": "Python 3",
   "language": "python",
   "name": "python3"
  },
  "language_info": {
   "codemirror_mode": {
    "name": "ipython",
    "version": 2
   },
   "file_extension": ".py",
   "mimetype": "text/x-python",
   "name": "python",
   "nbconvert_exporter": "python",
   "pygments_lexer": "ipython2",
   "version": "2.7.6"
  }
 },
 "nbformat": 4,
 "nbformat_minor": 5
}
